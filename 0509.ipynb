{
  "nbformat": 4,
  "nbformat_minor": 0,
  "metadata": {
    "colab": {
      "name": "0509.ipynb",
      "provenance": [],
      "authorship_tag": "ABX9TyPlvGt+ps0fkvS3YU0fHayZ",
      "include_colab_link": true
    },
    "kernelspec": {
      "name": "python3",
      "display_name": "Python 3"
    },
    "language_info": {
      "name": "python"
    }
  },
  "cells": [
    {
      "cell_type": "markdown",
      "metadata": {
        "id": "view-in-github",
        "colab_type": "text"
      },
      "source": [
        "<a href=\"https://colab.research.google.com/github/yutung0628/Introduction-to-Computers/blob/main/0509.ipynb\" target=\"_parent\"><img src=\"https://colab.research.google.com/assets/colab-badge.svg\" alt=\"Open In Colab\"/></a>"
      ]
    },
    {
      "cell_type": "code",
      "execution_count": 2,
      "metadata": {
        "colab": {
          "base_uri": "https://localhost:8080/"
        },
        "id": "xMUH63RH4GAS",
        "outputId": "1a34b9ef-2364-43b3-f746-28ef7f7ccbcd"
      },
      "outputs": [
        {
          "output_type": "stream",
          "name": "stdout",
          "text": [
            "請輸入你的體溫33.9\n",
            "體溫異常，請重新量測！\n"
          ]
        }
      ],
      "source": [
        "temp= float(input(\"請輸入你的體溫\"))\n",
        "if temp >= 37.5:\n",
        "  print(\"體溫過高！\")\n",
        "elif temp >=37 and temp <37.4:\n",
        "  print(\"體溫略高！\")\n",
        "elif temp >=34 and temp <=36.9:\n",
        "  print(\"體溫正常！\")\n",
        "\n",
        "else:\n",
        "  print(\"體溫異常，請重新量測！\")\n"
      ]
    },
    {
      "cell_type": "code",
      "source": [
        "score = input (\"請輸入成績\")\n",
        "if (int(score) >= 90):\n",
        "  print(\"A\")\n",
        "elif(int(score) >= 80):\n",
        "  print(\"B\")\n",
        "elif(int(score) >= 70):\n",
        "  print(\"C\")\n",
        "elif(int(score) >= 60):\n",
        "  print(\"D\")\n",
        "else:\n",
        "  print(\"E\")\n",
        "\n"
      ],
      "metadata": {
        "colab": {
          "base_uri": "https://localhost:8080/"
        },
        "id": "X7NlyntIAF5h",
        "outputId": "faf139b9-ee5e-47e7-fa7a-171e68c9d0bf"
      },
      "execution_count": 4,
      "outputs": [
        {
          "output_type": "stream",
          "name": "stdout",
          "text": [
            "請輸入成績50\n",
            "E\n"
          ]
        }
      ]
    },
    {
      "cell_type": "code",
      "source": [
        "money = int(input(\"請輸入購物金額：\"))\n",
        "if (money >= 10000):\n",
        "  if(money >= 100000):\n",
        "    print(\"八折\", money *0.8, end = \"元\\n\")\n",
        "  elif(money >= 50000):\n",
        "    print(\"八五折\",money *0.85, end = \"元\\n\")\n",
        "  elif(money >= 30000):\n",
        "    print(\"九折\",money *0.9, end = \"元\\n\")\n",
        "  else:\n",
        "    print(\"九五折\",money *0.95, end = \"元\\n\")\n",
        "else:\n",
        "  print(\"沒打折\",money, end= \"元\\n\")\n",
        "  "
      ],
      "metadata": {
        "colab": {
          "base_uri": "https://localhost:8080/"
        },
        "id": "qj7OVEaUE4R6",
        "outputId": "e3481746-3093-45c7-dd06-9718f70ec3b1"
      },
      "execution_count": 5,
      "outputs": [
        {
          "output_type": "stream",
          "name": "stdout",
          "text": [
            "請輸入購物金額：50000\n",
            "八五折 42500.0元\n"
          ]
        }
      ]
    },
    {
      "cell_type": "code",
      "source": [
        "x = int(input (\"請輸入月份\"))\n",
        "if x in [3,4,5]:\n",
        "  print(x,\"月是春天！\")\n",
        "elif x in [6,7,8]:\n",
        "  print(x,\"月是夏天！\")\n",
        "elif x in [9,10,11]:\n",
        "  print(x,\"月是秋天！\")\n",
        "elif x in [12,1,2]:\n",
        "  print(x,\"月是冬天！\")\n",
        "else:\n",
        "  print(\"月份不在範圍內!\")"
      ],
      "metadata": {
        "colab": {
          "base_uri": "https://localhost:8080/"
        },
        "id": "VyWpFYnwI8eq",
        "outputId": "2dbfd862-f3d0-4002-f9c4-2531a4c37de5"
      },
      "execution_count": 30,
      "outputs": [
        {
          "output_type": "stream",
          "name": "stdout",
          "text": [
            "請輸入月份13\n",
            "月份不在範圍內!\n"
          ]
        }
      ]
    },
    {
      "cell_type": "code",
      "source": [
        "money = int(input(\"請輸入今年收入淨額: \"))\n",
        "if(money >= 300000):\n",
        "  if(money >= 2000000):\n",
        "      print(\"付稅金額:\", money * 0.3, end = \"元\\n\")\n",
        "  elif(money >= 1000000):\n",
        "      print(\"付稅金額:\", money * 0.21, end = \"元\\n\")  \n",
        "  elif(money >= 600000):\n",
        "      print(\"付稅金額:\", money * 0.13, end = \"元\\n\")  \n",
        "  else:\n",
        "      print(\"付稅金額:\", money * 0.06, end = \"元\\n\")  \n",
        "else:\n",
        "  print(\"付稅金額:0 元\\n\")"
      ],
      "metadata": {
        "colab": {
          "base_uri": "https://localhost:8080/"
        },
        "id": "fPas7L_rPpEP",
        "outputId": "e217ee55-796d-4b7c-b2d8-da248fb53a3d"
      },
      "execution_count": 20,
      "outputs": [
        {
          "output_type": "stream",
          "name": "stdout",
          "text": [
            "請輸入今年收入淨額: 2000000\n",
            "付稅金額: 600000.0元\n"
          ]
        }
      ]
    }
  ]
}